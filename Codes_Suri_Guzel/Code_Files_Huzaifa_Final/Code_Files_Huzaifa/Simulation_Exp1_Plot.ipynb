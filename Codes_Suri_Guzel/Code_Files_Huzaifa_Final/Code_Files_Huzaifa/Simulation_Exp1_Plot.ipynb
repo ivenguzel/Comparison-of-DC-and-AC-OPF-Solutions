{
 "cells": [
  {
   "cell_type": "code",
   "execution_count": 71,
   "id": "7739f368",
   "metadata": {},
   "outputs": [],
   "source": [
    "import pandas as pd\n",
    "import numpy as np\n",
    "import matplotlib.pyplot as plt\n",
    "import seaborn as sns"
   ]
  },
  {
   "cell_type": "code",
   "execution_count": 72,
   "id": "8f65108b",
   "metadata": {},
   "outputs": [],
   "source": [
    "exp1 = pd.read_csv('exp1.csv')"
   ]
  },
  {
   "cell_type": "code",
   "execution_count": 73,
   "id": "2fdedf56",
   "metadata": {},
   "outputs": [
    {
     "data": {
      "text/html": [
       "<div>\n",
       "<style scoped>\n",
       "    .dataframe tbody tr th:only-of-type {\n",
       "        vertical-align: middle;\n",
       "    }\n",
       "\n",
       "    .dataframe tbody tr th {\n",
       "        vertical-align: top;\n",
       "    }\n",
       "\n",
       "    .dataframe thead th {\n",
       "        text-align: right;\n",
       "    }\n",
       "</style>\n",
       "<table border=\"1\" class=\"dataframe\">\n",
       "  <thead>\n",
       "    <tr style=\"text-align: right;\">\n",
       "      <th></th>\n",
       "      <th>p1_load</th>\n",
       "      <th>p2_load</th>\n",
       "      <th>ac_opf_success</th>\n",
       "      <th>ac_pf_success</th>\n",
       "    </tr>\n",
       "  </thead>\n",
       "  <tbody>\n",
       "    <tr>\n",
       "      <th>0</th>\n",
       "      <td>9</td>\n",
       "      <td>10</td>\n",
       "      <td>1</td>\n",
       "      <td>1</td>\n",
       "    </tr>\n",
       "    <tr>\n",
       "      <th>1</th>\n",
       "      <td>9</td>\n",
       "      <td>20</td>\n",
       "      <td>1</td>\n",
       "      <td>1</td>\n",
       "    </tr>\n",
       "    <tr>\n",
       "      <th>2</th>\n",
       "      <td>9</td>\n",
       "      <td>30</td>\n",
       "      <td>1</td>\n",
       "      <td>1</td>\n",
       "    </tr>\n",
       "    <tr>\n",
       "      <th>3</th>\n",
       "      <td>9</td>\n",
       "      <td>40</td>\n",
       "      <td>1</td>\n",
       "      <td>1</td>\n",
       "    </tr>\n",
       "    <tr>\n",
       "      <th>4</th>\n",
       "      <td>9</td>\n",
       "      <td>50</td>\n",
       "      <td>1</td>\n",
       "      <td>1</td>\n",
       "    </tr>\n",
       "  </tbody>\n",
       "</table>\n",
       "</div>"
      ],
      "text/plain": [
       "   p1_load  p2_load  ac_opf_success  ac_pf_success\n",
       "0        9       10               1              1\n",
       "1        9       20               1              1\n",
       "2        9       30               1              1\n",
       "3        9       40               1              1\n",
       "4        9       50               1              1"
      ]
     },
     "execution_count": 73,
     "metadata": {},
     "output_type": "execute_result"
    }
   ],
   "source": [
    "exp1.head()"
   ]
  },
  {
   "cell_type": "code",
   "execution_count": 74,
   "id": "7aa00bb6",
   "metadata": {},
   "outputs": [
    {
     "data": {
      "text/plain": [
       "(5000, 4)"
      ]
     },
     "execution_count": 74,
     "metadata": {},
     "output_type": "execute_result"
    }
   ],
   "source": [
    "exp1.shape"
   ]
  },
  {
   "cell_type": "code",
   "execution_count": 75,
   "id": "8c517007",
   "metadata": {},
   "outputs": [
    {
     "data": {
      "text/plain": [
       "AC OPF + DC OPF    2116\n",
       "AC OPF only         572\n",
       "Name: converge, dtype: int64"
      ]
     },
     "execution_count": 75,
     "metadata": {},
     "output_type": "execute_result"
    }
   ],
   "source": [
    "exp1['converge'] = 0\n",
    "\n",
    "for i in range(0, exp1.shape[0]):\n",
    "    \n",
    "    if (exp1.loc[i,'ac_opf_success'] == 1) and (exp1.loc[i,'ac_pf_success'] == 1):\n",
    "        exp1.loc[i,'converge'] = 'AC OPF + DC OPF'\n",
    "    elif (exp1.loc[i,'ac_opf_success'] == 1) and (exp1.loc[i,'ac_pf_success'] == 0):\n",
    "        exp1.loc[i,'converge'] = 'AC OPF only'\n",
    "    elif (exp1.loc[i,'ac_opf_success'] == 0) and (exp1.loc[i,'ac_pf_success'] == 1):\n",
    "        exp1.loc[i,'converge'] = 'DC OPF only'\n",
    "    else:\n",
    "        exp1.loc[i,'converge'] = 'None'\n",
    "        \n",
    "exp1 = exp1[exp1['converge'] != 'None']\n",
    "\n",
    "exp1['converge'].value_counts()"
   ]
  },
  {
   "cell_type": "code",
   "execution_count": 77,
   "id": "1fefb1ee",
   "metadata": {},
   "outputs": [
    {
     "data": {
      "image/png": "[encoded data removed]",
      "text/plain": [
       "<Figure size 1008x504 with 1 Axes>"
      ]
     },
     "metadata": {},
     "output_type": "display_data"
    }
   ],
   "source": [
    "sns.set_style(style='white') \n",
    "\n",
    "# Use the 'hue' argument to provide a factor variable\n",
    "sns.lmplot( x=\"p1_load\", y=\"p2_load\", data=exp1, fit_reg=False, hue='converge', legend=False, height=7, aspect=2)\n",
    " \n",
    "# Move the legend to an empty part of the plot\n",
    "plt.legend(loc='upper right', fontsize = 15)\n",
    "\n",
    "plt.xlabel('Load 1 (MW)', fontsize = 16, labelpad = 20)\n",
    "plt.ylabel('Load 2 (MW)', fontsize = 16, labelpad = 20)\n",
    "\n",
    "plt.savefig('exp1_simulation.png')\n",
    "plt.show()"
   ]
  },
  {
   "cell_type": "code",
   "execution_count": null,
   "id": "399684de",
   "metadata": {},
   "outputs": [],
   "source": []
  },
  {
   "cell_type": "code",
   "execution_count": null,
   "id": "11f61343",
   "metadata": {},
   "outputs": [],
   "source": []
  }
 ],
 "metadata": {
  "kernelspec": {
   "display_name": "Python 3 (ipykernel)",
   "language": "python",
   "name": "python3"
  },
  "language_info": {
   "codemirror_mode": {
    "name": "ipython",
    "version": 3
   },
   "file_extension": ".py",
   "mimetype": "text/x-python",
   "name": "python",
   "nbconvert_exporter": "python",
   "pygments_lexer": "ipython3",
   "version": "3.9.12"
  }
 },
 "nbformat": 4,
 "nbformat_minor": 5
}
